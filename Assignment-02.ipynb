{
 "cells": [
  {
   "cell_type": "markdown",
   "metadata": {},
   "source": [
    "# Assignment-02, Probability Model A First Look: An Introduction of Language Model"
   ]
  },
  {
   "cell_type": "markdown",
   "metadata": {},
   "source": [
    "## Assignment\n",
    "\n",
    "1. Review the course online programming code; \n",
    "2. Review the main questions; \n",
    "3. Using wikipedia corpus to build a language model. "
   ]
  },
  {
   "cell_type": "markdown",
   "metadata": {},
   "source": [
    "## 1. Review the course online programming code. "
   ]
  },
  {
   "cell_type": "markdown",
   "metadata": {},
   "source": [
    "*In this part, you should re-code the programming task in our online course.*\n",
    "\n",
    "> \n",
    "> \n",
    "\n",
    "> \n",
    "> \n",
    "\n",
    "\n",
    "\n"
   ]
  },
  {
   "cell_type": "markdown",
   "metadata": {},
   "source": [
    "## 2. Review the main points of this lesson. "
   ]
  },
  {
   "cell_type": "markdown",
   "metadata": {},
   "source": [
    "##### 1. How to Github and Why do we use Jupyter and Pycharm; "
   ]
  },
  {
   "cell_type": "markdown",
   "metadata": {},
   "source": [
    "Ans: github 是一个版本管理工具，适合多人合作；基本的 git init ， git status ，然后先 git add [...] 添加已完成修改的分支， 再git commit -m \"[comment]\" commit 已添加的修改，最后 git push -u origin master 发送 local repo 的修改到 origin可以完成简单上传\n",
    "Jupyter 是支持多种编程语言，兼容 markdown 可以用来记录学习过程，但不适用于大型的开发项目的调试和运行。如果在本地用编辑器打开一个 .ipynb 格式的文件，显示的是包括笔记本风格的脚本文件和每行的输出结果，而看不到原始代码；另外，debug起来会比较困难）。相比之下，Pycharm 是一个更专业的集成开发环境。"
   ]
  },
  {
   "cell_type": "markdown",
   "metadata": {},
   "source": [
    "##### 2. What's the Probability Model?"
   ]
  },
  {
   "cell_type": "markdown",
   "metadata": {},
   "source": [
    "Ans:现在了解到的基本上是针对联合概率和条件概率的一系列简化模型，将一个句子的概率与逐个单词，或2-gram的出现的概率联系起来"
   ]
  },
  {
   "cell_type": "markdown",
   "metadata": {},
   "source": [
    "##### 3. Can you came up with some sceneraies at which we could use Probability Model?"
   ]
  },
  {
   "cell_type": "markdown",
   "metadata": {},
   "source": [
    "Ans:搜索引擎，语音语义识别，文本分类等"
   ]
  },
  {
   "cell_type": "markdown",
   "metadata": {},
   "source": [
    "##### 4. Why do we use probability and what's the difficult points for programming based on parsing and pattern match? \n"
   ]
  },
  {
   "cell_type": "markdown",
   "metadata": {},
   "source": [
    "Ans:模式匹配的方法需要设计大量的精巧的pattern和高超的编程技巧，但概率模型比较固定，而且在一定条件下可以进行简化，编程思路清晰，方便移植，适用性强。"
   ]
  },
  {
   "cell_type": "markdown",
   "metadata": {},
   "source": [
    "##### 5. What's the Language Model;"
   ]
  },
  {
   "cell_type": "markdown",
   "metadata": {},
   "source": [
    "Ans: $$ Pr(S) = Pr(w_1\\cdot w_2\\cdots w_n)\\sim Pr(w_1)\\cdot Pr(w_2|w_1)\\cdots Pr(w_n|w_{n-1})$$  \n",
    " 2-gram考虑的主要是每个单词只与前面出现的单个单词有关，因此整个句子的概率可以用上面的式子表示"
   ]
  },
  {
   "cell_type": "markdown",
   "metadata": {},
   "source": [
    "#####  6. Can you came up with some sceneraies at which we could use Language Model?"
   ]
  },
  {
   "cell_type": "markdown",
   "metadata": {},
   "source": [
    "Ans:同3"
   ]
  },
  {
   "cell_type": "markdown",
   "metadata": {},
   "source": [
    "##### 7. What's the 1-gram language model;"
   ]
  },
  {
   "cell_type": "markdown",
   "metadata": {},
   "source": [
    "Ans:个人感觉这是一种很理想的状态，即每个单词都独立出现的特殊情况，这样每个句子的概率就等于每个单词的概率相乘"
   ]
  },
  {
   "cell_type": "markdown",
   "metadata": {},
   "source": [
    "##### 8. What's the disadvantages and advantages of 1-gram language model;"
   ]
  },
  {
   "cell_type": "markdown",
   "metadata": {},
   "source": [
    "Ans:可以解决大部分简单句子，在句子中词与词的关系前后联系紧密时效果不好"
   ]
  },
  {
   "cell_type": "markdown",
   "metadata": {},
   "source": [
    "##### 9.  What't the 2-gram models; "
   ]
  },
  {
   "cell_type": "markdown",
   "metadata": {},
   "source": [
    "Ans:同5"
   ]
  },
  {
   "cell_type": "markdown",
   "metadata": {},
   "source": [
    "##### 10. what's the web crawler, and can you implement a simple crawler? "
   ]
  },
  {
   "cell_type": "markdown",
   "metadata": {},
   "source": [
    "Ans:爬虫现在我根据老师的介绍，可以爬取简单的文本和图片，至于高端的工具目前还需要继续学习"
   ]
  },
  {
   "cell_type": "markdown",
   "metadata": {},
   "source": [
    "##### 11.  There may be some issues to make our crwaler programming difficult, what are these, and how do we solve them?"
   ]
  },
  {
   "cell_type": "markdown",
   "metadata": {},
   "source": [
    "Ans:个人觉得一方面是反扒机制需要突破，另一方面有类似的高级工具需要学习（如 有时候爬下来就是JavaScript等脚本，需要我们模拟浏览器内核）"
   ]
  },
  {
   "cell_type": "markdown",
   "metadata": {},
   "source": [
    "##### 12. What't the Regular Expression and how to use?"
   ]
  },
  {
   "cell_type": "raw",
   "metadata": {},
   "source": [
    "Ans:正则表达式是一套很好的描述文本信息的规则，通过它我们可以把文本根据特点进行分类处理，至于如何使用，我觉得主要需要结合相应的规则表进行练习。"
   ]
  },
  {
   "cell_type": "markdown",
   "metadata": {},
   "source": [
    "## 3. Using Wikipedia dataset to finish the language model. "
   ]
  },
  {
   "cell_type": "markdown",
   "metadata": {},
   "source": [
    "Step 1: You need to download the corpus from wikipedis:\n",
    "> https://dumps.wikimedia.org/zhwiki/20190401/\n",
    "\n",
    "Step 2: You may need the help of wiki-extractor:\n",
    "\n",
    "> https://github.com/attardi/wikiextractor\n",
    "\n",
    "Step 3: Using the technologies and methods to finish the language model; \n",
    "> \n",
    "\n",
    "Step 4: Try some interested sentence pairs, and check if your model could fit them\n",
    "\n",
    "> \n",
    "\n",
    "Step 5: If we need to solve following problems, how can language model help us? \n",
    "\n",
    "+ Voice Recognization.\n",
    "+ Sogou *pinyin* input.\n",
    "+ Auto correction in search engine. \n",
    "+ Abnormal Detection."
   ]
  },
  {
   "cell_type": "markdown",
   "metadata": {},
   "source": [
    "### Compared to the previous learned parsing and pattern match problems. What's the advantage and disavantage of Probability Based Methods? "
   ]
  },
  {
   "cell_type": "markdown",
   "metadata": {},
   "source": [
    "Ans: "
   ]
  },
  {
   "cell_type": "markdown",
   "metadata": {},
   "source": [
    "## (Optional)  How to solve *OOV* problem?\n",
    "\n",
    "If some words are not in our dictionary or corpus. When we using language model, we need to overcome this `out-of-vocabulary`(OOV) problems. There are so many intelligent man to solve this probelm. \n",
    "\n",
    "-- \n",
    "\n",
    "The first question is: \n",
    "\n",
    "**Q1: How did you solve this problem in your programming task?**"
   ]
  },
  {
   "cell_type": "markdown",
   "metadata": {},
   "source": [
    "Ans: "
   ]
  },
  {
   "cell_type": "markdown",
   "metadata": {},
   "source": [
    "Then, the sencond question is: "
   ]
  },
  {
   "cell_type": "markdown",
   "metadata": {},
   "source": [
    "**Q2: Read about the 'Turing-Good Estimator', can explain the main points about this method, and may implement this method in your programming task**\n",
    "\n",
    "Reference: \n",
    "+ https://www.wikiwand.com/en/Good%E2%80%93Turing_frequency_estimation\n",
    "+ https://github.com/Computing-Intelligence/References/blob/master/NLP/Natural-Language-Processing.pdf, Page-37"
   ]
  },
  {
   "cell_type": "markdown",
   "metadata": {},
   "source": [
    "> coding in here"
   ]
  },
  {
   "cell_type": "markdown",
   "metadata": {},
   "source": [
    "# 第一步 下载wiki语料，解压后发现是一个XML文件 7G左右"
   ]
  },
  {
   "cell_type": "markdown",
   "metadata": {},
   "source": [
    "# 第二步 如何解压？？\n",
    "\n",
    "windows 下 WikiExtractor.py -o outXX XX.xml.bz2 无法直接执行，查资料得是编码格式问题，故找到 .py中fileinput设置为UTF-8解压成功 \n",
    "input = fileinput.FileInput(input_file, openhook=fileinput.hook_encoded(\"utf-8\"))"
   ]
  },
  {
   "cell_type": "markdown",
   "metadata": {},
   "source": [
    "# 第三步 加载文件"
   ]
  },
  {
   "cell_type": "markdown",
   "metadata": {},
   "source": [
    " 我们并不清楚解压后是什么文件 尝试和之前一样的处理方式"
   ]
  },
  {
   "cell_type": "code",
   "execution_count": 33,
   "metadata": {},
   "outputs": [],
   "source": [
    "database='G:\\Jupyter\\week2\\wikiextractor-master\\outxml\\AA\\wiki_12'"
   ]
  },
  {
   "cell_type": "code",
   "execution_count": 34,
   "metadata": {},
   "outputs": [],
   "source": [
    "import pandas as pd\n",
    "#dataframe=pd.read_csv(database,encoding='hz',engine='python')    #这种方式适合读取表结构，调整编码值也不成功，估计不是CSV，根据建议使用open函数\n"
   ]
  },
  {
   "cell_type": "code",
   "execution_count": 41,
   "metadata": {},
   "outputs": [],
   "source": [
    "dataframe=open(database,'r',encoding='UTF-8') #成功，python open() 函数用于打开一个文件，创建一个 file 对象"
   ]
  },
  {
   "cell_type": "markdown",
   "metadata": {},
   "source": [
    "file.read([size])：size 未指定则返回整个文件，如果文件大小 >2 倍内存则有问题，f.read()读到文件尾时返回\"\"(空字串)。\n",
    "file.readline()：返回一行。\n",
    "file.readlines([size]) ：返回包含size行的列表, size 未指定则返回全部行。\n",
    "for line in f: print line ：通过迭代器访问。\n",
    "f.write(\"hello\\n\")：如果要写入字符串以外的数据,先将他转换为字符串。\n",
    "f.close() 关闭文件"
   ]
  },
  {
   "cell_type": "code",
   "execution_count": 42,
   "metadata": {},
   "outputs": [],
   "source": [
    "all_articles=dataframe.readlines() #这里多次失败，主要是切割文件太大，notebook处理能力有限，切割到40MB以下后可以运行"
   ]
  },
  {
   "cell_type": "markdown",
   "metadata": {},
   "source": [
    "观察的得知，第一 文本为繁体。第二文本中多余的符号较多。先去除符号，采用课堂中的方法。"
   ]
  },
  {
   "cell_type": "code",
   "execution_count": 44,
   "metadata": {},
   "outputs": [
    {
     "data": {
      "text/plain": [
       "['<doc id=\"6147853\" url=\"https://zh.wikipedia.org/wiki?curid=6147853\" title=\"雷恰鄉 (馬拉穆列什縣)\">\\n',\n",
       " '雷恰鄉 (馬拉穆列什縣)\\n',\n",
       " '\\n',\n",
       " '雷恰鄉是羅馬尼亞的鄉份，位於該國西北部，由馬拉穆列什縣負責管轄，面積44平方公里，海拔高度157米，2007年人口5,580，人口密度每平方公里127人。\\n',\n",
       " '\\n',\n",
       " '\\n',\n",
       " '\\n',\n",
       " '</doc>\\n',\n",
       " '<doc id=\"6147854\" url=\"https://zh.wikipedia.org/wiki?curid=6147854\" title=\"雷梅泰亞基瓦魯盧伊鄉\">\\n',\n",
       " '雷梅泰亞基瓦魯盧伊鄉\\n',\n",
       " '\\n',\n",
       " '雷梅泰亞基瓦魯盧伊鄉是羅馬尼亞的鄉份，位於該國西北部，由馬拉穆列什縣負責管轄，面積51平方公里，海拔高度238米，2007年人口2,872，人口密度每平方公里56人。\\n',\n",
       " '\\n',\n",
       " '\\n',\n",
       " '\\n',\n",
       " '</doc>\\n',\n",
       " '<doc id=\"6147855\" url=\"https://zh.wikipedia.org/wiki?curid=6147855\" title=\"雷梅齊鄉\">\\n',\n",
       " '雷梅齊鄉\\n',\n",
       " '\\n',\n",
       " '雷梅齊鄉是羅馬尼亞的鄉份，位於該國西北部，由馬拉穆列什縣負責管轄，面積63平方公里，海拔高度412米，2007年人口3,116，人口密度每平方公里49人。\\n',\n",
       " '\\n',\n",
       " '\\n',\n",
       " '\\n',\n",
       " '</doc>\\n',\n",
       " '<doc id=\"6147857\" url=\"https://zh.wikipedia.org/wiki?curid=6147857\" title=\"雷佩代亞鄉\">\\n',\n",
       " '雷佩代亞鄉\\n',\n",
       " '\\n',\n",
       " '雷佩代亞鄉是羅馬尼亞的鄉份，位於該國西北部，由馬拉穆列什縣負責管轄，面積114平方公里，海拔高度511米，2007年人口4,904，人口密度每平方公里43人。\\n',\n",
       " '\\n',\n",
       " '\\n',\n",
       " '\\n',\n",
       " '</doc>\\n',\n",
       " '<doc id=\"6147858\" url=\"https://zh.wikipedia.org/wiki?curid=6147858\" title=\"下羅納鄉\">\\n',\n",
       " '下羅納鄉\\n',\n",
       " '\\n',\n",
       " '下羅納鄉是羅馬尼亞的鄉份，位於該國西北部，由馬拉穆列什縣負責管轄，面積22平方公里，海拔高度305米，2007年人口2,055，人口密度每平方公里93人。\\n',\n",
       " '\\n',\n",
       " '\\n',\n",
       " '\\n',\n",
       " '</doc>\\n',\n",
       " '<doc id=\"6147860\" url=\"https://zh.wikipedia.org/wiki?curid=6147860\" title=\"上羅納鄉\">\\n',\n",
       " '上羅納鄉\\n',\n",
       " '\\n',\n",
       " '上羅納鄉是位於羅馬尼亞西北部的鄉份，由馬拉穆列什縣負責管轄，面積68平方公里，海拔高度343米，2007年人口4,640，人口密度每平方公里68人。\\n',\n",
       " '\\n',\n",
       " '\\n',\n",
       " '\\n',\n",
       " '</doc>\\n',\n",
       " '<doc id=\"6147862\" url=\"https://zh.wikipedia.org/wiki?curid=6147862\" title=\"羅扎夫萊亞鄉\">\\n',\n",
       " '羅扎夫萊亞鄉\\n',\n",
       " '\\n',\n",
       " '羅扎夫萊亞鄉是羅馬尼亞的鄉份，位於該國西北部，由馬拉穆列什縣負責管轄，面積43平方公里，海拔高度390米，2007年人口3,508，人口密度每平方公里81人。\\n',\n",
       " '\\n',\n",
       " '\\n',\n",
       " '\\n',\n",
       " '</doc>\\n',\n",
       " '<doc id=\"6147864\" url=\"https://zh.wikipedia.org/wiki?curid=6147864\" title=\"魯斯科瓦鄉\">\\n',\n",
       " '魯斯科瓦鄉\\n',\n",
       " '\\n',\n",
       " '魯斯科瓦鄉是羅馬尼亞的鄉份，位於該國西北部，由馬拉穆列什縣負責管轄，面積41平方公里，2007年人口5,190，人口密度每平方公里127人，八成居民信奉東正教。\\n',\n",
       " '\\n',\n",
       " '\\n',\n",
       " '\\n',\n",
       " '</doc>\\n',\n",
       " '<doc id=\"6147866\" url=\"https://zh.wikipedia.org/wiki?curid=6147866\" title=\"瑟克勒謝尼鄉\">\\n',\n",
       " '瑟克勒謝尼鄉\\n',\n",
       " '\\n',\n",
       " '瑟克勒謝尼鄉是羅馬尼亞的鄉份，位於該國西北部，由馬拉穆列什縣負責管轄，面積29平方公里，海拔高度171米，2007年人口2,448，人口密度每平方公里85人。\\n',\n",
       " '\\n',\n",
       " '\\n',\n",
       " '\\n',\n",
       " '</doc>\\n',\n",
       " '<doc id=\"6147870\" url=\"https://zh.wikipedia.org/wiki?curid=6147870\" title=\"瑟切爾鄉 (馬拉穆列什縣)\">\\n',\n",
       " '瑟切爾鄉 (馬拉穆列什縣)\\n',\n",
       " '\\n',\n",
       " '瑟切爾鄉是羅馬尼亞的鄉份，位於該國西北部，由馬拉穆列什縣負責管轄，面積80平方公里，海拔高度400米，2007年人口3,641，人口密度每平方公里46人。\\n',\n",
       " '\\n',\n",
       " '\\n',\n",
       " '</doc>\\n',\n",
       " '<doc id=\"6147873\" url=\"https://zh.wikipedia.org/wiki?curid=6147873\" title=\"瑟爾西格鄉\">\\n',\n",
       " '瑟爾西格鄉\\n',\n",
       " '\\n',\n",
       " '瑟爾西格鄉是羅馬尼亞的鄉份，位於該國西北部，由馬拉穆列什縣負責管轄，面積22平方公里，海拔高度160米，2007年人口1,518，人口密度每平方公里69人。\\n',\n",
       " '\\n',\n",
       " '\\n',\n",
       " '\\n',\n",
       " '</doc>\\n',\n",
       " '<doc id=\"6147875\" url=\"https://zh.wikipedia.org/wiki?curid=6147875\" title=\"薩拉瑟烏鄉\">\\n',\n",
       " '薩拉瑟烏鄉\\n',\n",
       " '\\n',\n",
       " '薩拉瑟烏鄉是羅馬尼亞的鄉份，位於該國西北部，由馬拉穆列什縣負責管轄，面積20平方公里，海拔高度350米，2007年人口2,514，人口密度每平方公里129人。\\n',\n",
       " '\\n',\n",
       " '\\n',\n",
       " '\\n',\n",
       " '</doc>\\n',\n",
       " '<doc id=\"6147877\" url=\"https://zh.wikipedia.org/wiki?curid=6147877\" title=\"哈麗艾特·史密森\">\\n',\n",
       " '哈麗艾特·史密森\\n',\n",
       " '\\n',\n",
       " '哈麗艾特·史密森（；），全名哈麗艾特·康士坦士·史密森，著名莎士比亞作品女演員，也以白遼士（Hector Berlioz）首任妻子的身分為人熟知。\\n',\n",
       " '\\n']"
      ]
     },
     "execution_count": 44,
     "metadata": {},
     "output_type": "execute_result"
    }
   ],
   "source": [
    "all_articles[:100]"
   ]
  },
  {
   "cell_type": "code",
   "execution_count": 45,
   "metadata": {},
   "outputs": [],
   "source": [
    "import re"
   ]
  },
  {
   "cell_type": "code",
   "execution_count": 46,
   "metadata": {},
   "outputs": [],
   "source": [
    "def token(string):\n",
    "    return ' '.join(re.findall('[\\w|\\d]+',string))"
   ]
  },
  {
   "cell_type": "code",
   "execution_count": 47,
   "metadata": {},
   "outputs": [],
   "source": [
    "all_articles=[token(str(a))for a in all_articles]"
   ]
  },
  {
   "cell_type": "code",
   "execution_count": 48,
   "metadata": {
    "scrolled": true
   },
   "outputs": [
    {
     "data": {
      "text/plain": [
       "['doc id 6147853 url https zh wikipedia org wiki curid 6147853 title 雷恰鄉 馬拉穆列什縣',\n",
       " '雷恰鄉 馬拉穆列什縣',\n",
       " '',\n",
       " '雷恰鄉是羅馬尼亞的鄉份 位於該國西北部 由馬拉穆列什縣負責管轄 面積44平方公里 海拔高度157米 2007年人口5 580 人口密度每平方公里127人',\n",
       " '',\n",
       " '',\n",
       " '',\n",
       " 'doc',\n",
       " 'doc id 6147854 url https zh wikipedia org wiki curid 6147854 title 雷梅泰亞基瓦魯盧伊鄉',\n",
       " '雷梅泰亞基瓦魯盧伊鄉',\n",
       " '',\n",
       " '雷梅泰亞基瓦魯盧伊鄉是羅馬尼亞的鄉份 位於該國西北部 由馬拉穆列什縣負責管轄 面積51平方公里 海拔高度238米 2007年人口2 872 人口密度每平方公里56人',\n",
       " '',\n",
       " '',\n",
       " '',\n",
       " 'doc',\n",
       " 'doc id 6147855 url https zh wikipedia org wiki curid 6147855 title 雷梅齊鄉',\n",
       " '雷梅齊鄉',\n",
       " '',\n",
       " '雷梅齊鄉是羅馬尼亞的鄉份 位於該國西北部 由馬拉穆列什縣負責管轄 面積63平方公里 海拔高度412米 2007年人口3 116 人口密度每平方公里49人',\n",
       " '',\n",
       " '',\n",
       " '',\n",
       " 'doc',\n",
       " 'doc id 6147857 url https zh wikipedia org wiki curid 6147857 title 雷佩代亞鄉',\n",
       " '雷佩代亞鄉',\n",
       " '',\n",
       " '雷佩代亞鄉是羅馬尼亞的鄉份 位於該國西北部 由馬拉穆列什縣負責管轄 面積114平方公里 海拔高度511米 2007年人口4 904 人口密度每平方公里43人',\n",
       " '',\n",
       " '',\n",
       " '',\n",
       " 'doc',\n",
       " 'doc id 6147858 url https zh wikipedia org wiki curid 6147858 title 下羅納鄉',\n",
       " '下羅納鄉',\n",
       " '',\n",
       " '下羅納鄉是羅馬尼亞的鄉份 位於該國西北部 由馬拉穆列什縣負責管轄 面積22平方公里 海拔高度305米 2007年人口2 055 人口密度每平方公里93人',\n",
       " '',\n",
       " '',\n",
       " '',\n",
       " 'doc',\n",
       " 'doc id 6147860 url https zh wikipedia org wiki curid 6147860 title 上羅納鄉',\n",
       " '上羅納鄉',\n",
       " '',\n",
       " '上羅納鄉是位於羅馬尼亞西北部的鄉份 由馬拉穆列什縣負責管轄 面積68平方公里 海拔高度343米 2007年人口4 640 人口密度每平方公里68人',\n",
       " '',\n",
       " '',\n",
       " '',\n",
       " 'doc',\n",
       " 'doc id 6147862 url https zh wikipedia org wiki curid 6147862 title 羅扎夫萊亞鄉',\n",
       " '羅扎夫萊亞鄉',\n",
       " '',\n",
       " '羅扎夫萊亞鄉是羅馬尼亞的鄉份 位於該國西北部 由馬拉穆列什縣負責管轄 面積43平方公里 海拔高度390米 2007年人口3 508 人口密度每平方公里81人',\n",
       " '',\n",
       " '',\n",
       " '',\n",
       " 'doc',\n",
       " 'doc id 6147864 url https zh wikipedia org wiki curid 6147864 title 魯斯科瓦鄉',\n",
       " '魯斯科瓦鄉',\n",
       " '',\n",
       " '魯斯科瓦鄉是羅馬尼亞的鄉份 位於該國西北部 由馬拉穆列什縣負責管轄 面積41平方公里 2007年人口5 190 人口密度每平方公里127人 八成居民信奉東正教',\n",
       " '',\n",
       " '',\n",
       " '',\n",
       " 'doc',\n",
       " 'doc id 6147866 url https zh wikipedia org wiki curid 6147866 title 瑟克勒謝尼鄉',\n",
       " '瑟克勒謝尼鄉',\n",
       " '',\n",
       " '瑟克勒謝尼鄉是羅馬尼亞的鄉份 位於該國西北部 由馬拉穆列什縣負責管轄 面積29平方公里 海拔高度171米 2007年人口2 448 人口密度每平方公里85人',\n",
       " '',\n",
       " '',\n",
       " '',\n",
       " 'doc',\n",
       " 'doc id 6147870 url https zh wikipedia org wiki curid 6147870 title 瑟切爾鄉 馬拉穆列什縣',\n",
       " '瑟切爾鄉 馬拉穆列什縣',\n",
       " '',\n",
       " '瑟切爾鄉是羅馬尼亞的鄉份 位於該國西北部 由馬拉穆列什縣負責管轄 面積80平方公里 海拔高度400米 2007年人口3 641 人口密度每平方公里46人',\n",
       " '',\n",
       " '',\n",
       " 'doc',\n",
       " 'doc id 6147873 url https zh wikipedia org wiki curid 6147873 title 瑟爾西格鄉',\n",
       " '瑟爾西格鄉',\n",
       " '',\n",
       " '瑟爾西格鄉是羅馬尼亞的鄉份 位於該國西北部 由馬拉穆列什縣負責管轄 面積22平方公里 海拔高度160米 2007年人口1 518 人口密度每平方公里69人',\n",
       " '',\n",
       " '',\n",
       " '',\n",
       " 'doc',\n",
       " 'doc id 6147875 url https zh wikipedia org wiki curid 6147875 title 薩拉瑟烏鄉',\n",
       " '薩拉瑟烏鄉',\n",
       " '',\n",
       " '薩拉瑟烏鄉是羅馬尼亞的鄉份 位於該國西北部 由馬拉穆列什縣負責管轄 面積20平方公里 海拔高度350米 2007年人口2 514 人口密度每平方公里129人',\n",
       " '',\n",
       " '',\n",
       " '',\n",
       " 'doc',\n",
       " 'doc id 6147877 url https zh wikipedia org wiki curid 6147877 title 哈麗艾特 史密森',\n",
       " '哈麗艾特 史密森',\n",
       " '',\n",
       " '哈麗艾特 史密森 全名哈麗艾特 康士坦士 史密森 著名莎士比亞作品女演員 也以白遼士 Hector Berlioz 首任妻子的身分為人熟知',\n",
       " '']"
      ]
     },
     "execution_count": 48,
     "metadata": {},
     "output_type": "execute_result"
    }
   ],
   "source": [
    "all_articles[:100] #观察得知还有很多空字符，而且头部的无用信息未能删除，头部信息以doc开头"
   ]
  },
  {
   "cell_type": "code",
   "execution_count": 71,
   "metadata": {},
   "outputs": [],
   "source": [
    "def clean_head(list_a):\n",
    "    str_0=''\n",
    "    for s in list_a:\n",
    "        if not s.startswith('doc'):\n",
    "            str_0=str_0+s\n",
    "    return str_0\n",
    "    "
   ]
  },
  {
   "cell_type": "code",
   "execution_count": 80,
   "metadata": {},
   "outputs": [],
   "source": [
    "text=clean_head(all_articles)"
   ]
  },
  {
   "cell_type": "code",
   "execution_count": 81,
   "metadata": {},
   "outputs": [
    {
     "name": "stdout",
     "output_type": "stream",
     "text": [
      "length of text:13507318\n"
     ]
    }
   ],
   "source": [
    "print('length of text:{}'.format(len(text)))"
   ]
  },
  {
   "cell_type": "code",
   "execution_count": 82,
   "metadata": {
    "collapsed": true
   },
   "outputs": [
    {
     "data": {
      "text/plain": [
       "'雷恰鄉 馬拉穆列什縣雷恰鄉是羅馬尼亞的鄉份 位於該國西北部 由馬拉穆列什縣負責管轄 面積44平方公里 海拔高度157米 2007年人口5 580 人口密度每平方公里127人雷梅泰亞基瓦魯盧伊鄉雷梅泰亞基瓦魯盧伊鄉是羅馬尼亞的鄉份 位於該國西北部 由馬拉穆列什縣負責管轄 面積51平方公里 海拔高度238米 2007年人口2 872 人口密度每平方公里56人雷梅齊鄉雷梅齊鄉是羅馬尼亞的鄉份 位於該國西北部 由馬拉穆列什縣負責管轄 面積63平方公里 海拔高度412米 2007年人口3 116 人口密度每平方公里49人雷佩代亞鄉雷佩代亞鄉是羅馬尼亞的鄉份 位於該國西北部 由馬拉穆列什縣負責管轄 面積114平方公里 海拔高度511米 2007年人口4 904 人口密度每平方公里43人下羅納鄉下羅納鄉是羅馬尼亞的鄉份 位於該國西北部 由馬拉穆列什縣負責管轄 面積22平方公里 海拔高度305米 2007年人口2 055 人口密度每平方公里93人上羅納鄉上羅納鄉是位於羅馬尼亞西北部的鄉份 由馬拉穆列什縣負責管轄 面積68平方公里 海拔高度343米 2007年人口4 640 人口密度每平方公里68人羅扎夫萊亞鄉羅扎夫萊亞鄉是羅馬尼亞的鄉份 位於該國西北部 由馬拉穆列什縣負責管轄 面積43平方公里 海拔高度390米 2007年人口3 508 人口密度每平方公里81人魯斯科瓦鄉魯斯科瓦鄉是羅馬尼亞的鄉份 位於該國西北部 由馬拉穆列什縣負責管轄 面積41平方公里 2007年人口5 190 人口密度每平方公里127人 八成居民信奉東正教瑟克勒謝尼鄉瑟克勒謝尼鄉是羅馬尼亞的鄉份 位於該國西北部 由馬拉穆列什縣負責管轄 面積29平方公里 海拔高度171米 2007年人口2 448 人口密度每平方公里85人瑟切爾鄉 馬拉穆列什縣瑟切爾鄉是羅馬尼亞的鄉份 位於該國西北部 由馬拉穆列什縣負責管轄 面積80平方公里 海拔高度400米 2007年人口3 641 人口密度每平方公里46人瑟爾西格鄉瑟爾西格鄉是羅馬尼亞的鄉份 位於該國西北部 由馬拉穆列什縣負責管轄 面積22平方公里 海拔高度160米 2007年人口1 518 人口密度每平方公里69人薩拉瑟烏鄉薩拉瑟烏鄉是羅馬尼亞的鄉份 位於該國西北部 由馬拉穆列什縣負責管轄 面積20平方公里 海拔高度350米 2007年人口2 514 人口密度每平方公里129人哈麗艾特 史密森哈麗艾特 史密森 全名哈麗艾特 康士坦士 史密森 著名莎士比亞作品女演員 也以白遼士 Hector Berlioz 首任妻子的身分為人熟知哈麗艾特 史密森在1800年3月18日生於愛爾蘭克萊爾郡恩尼思 其父威廉 約瑟 史密森 William Joseph Smithson 是一名演員 戲院掌班 英格蘭格洛斯特人 母親則是一位姓名成謎的女演員 其家庭成員尚有兄弟約瑟 史密森和一名同樣姓名不詳的姊妹 1801年10月 哈麗艾特被留給Drumcliffe教區愛爾蘭教堂牧師 日後的Killaloe教長Reverend James Barrett照顧 Barrett成為其監護人 並將之視為自己的女兒般疼愛 Barrett在1808年2月16日逝世以後 史密森家把她送到位在沃特福德的一間寄宿學校1814年5月27日 史密森以符雷德利克 雷諾德士 The Will 一作中的角色Albina Mandevill在都柏林出道 其演出獲得普遍欣賞 Freeman s Journal 也給了她肯定的評論白遼士在奥德翁剧院看到了史密森飾演的朱麗葉 凱普萊特和歐菲莉亞 對她一見鍾情 儘管對史密森毫無認識 白遼士仍寫情書給她 甚至有一陣子搬到她上班途中會經過的公寓居住 以便每天看到她 1831年秋 史密森受邀聆賞白遼士為她所作的 幻想交響曲 為之感動 10個月後與白遼士在巴黎的英國大使館結婚晚年的史密森身體癱瘓 幾乎無法移動身體或說話 1854年3月3日 她在聖文聖街的家中逝世 死後葬於 白遼士後來在聖文森重新開發時將其移葬到蒙馬特公墓陰森 遊戲是一款由加拿大公司 Endnight Games开发的第一人称开放世界生存电子游戏 可在Microsoft Windows上游玩 故事发生在加拿大卑詩省里被密集的森林覆盖的半岛中 玩家和一名小孩成为了坠机事件的幸存者 这是一款沙盒类游戏 并不会给予玩家任务 让必须生存下来的玩家自己做主 早期测试版游戏的评论大多正面 游戏于2014年5月释出 并于2018年4月释出完整版 同时游戏也即将在2018年释出PlayStation 4版在 陰森 中 玩家和儿子将会遭遇坠机 之后 食人肉者 把玩家的儿子抓走了 玩家必须建造庇护所 武器和其他生存工具并在被森林覆盖的半岛中生存 除了多种林地生物以外 岛上还住着一群夜间活动且同类相食的突变体 他们居住在地面上的村子以及半岛下方很深的洞穴 他们在不需要时都不会对玩家产生敌意 但他们平时的行为举止富於攻擊性 尤其是在夜间 玩家进行游戏并探索森林地下的洞穴时 他也会遇到越来越多奇怪的突变体 包括畸形的婴儿和拥有额外附肢的突变体游戏带有日夜循环 玩家能够在日间建造庇护所和设置陷阱 进行捕猎以及收集供给 并在夜间保护自己玩家将操纵埃里克 勒布朗 游戏开始时玩家和他名为提姆 勒布朗的儿子乘坐飞机 但中途却因不明原因坠机在遥远的岛上 虽然玩家和儿子成功生存了下来 但玩家却无助地看着一位脸上涂了红色颜料的男人抓走儿子 玩家除了必须在野外生存并抵挡敌对动物和野生且同类相食的突变体以外 也必须搜寻半岛找到儿子 森林中留下了线索让玩家了解故事 但大多数的剧情都发生在半岛下的洞穴中最后 玩家发现了一所废弃的地下实验室 科学家在那里研究人工起死回生 但结果却需要一名小孩的牺牲 玩家也发现到绑架犯曾尝试牺牲玩家的儿子让他的女儿复活 不过 玩家发现女儿已经突变成了充满攻击性的食人怪物 就和在半岛活动的其他突变体类似 玩家遭遇那名小孩 但小孩在攻击玩家之前突然因再度突变而剧烈疼痛 最终死亡 玩家尝试使用女儿的尸体复活他的儿子 但最终因实验需要活生生的小孩而失败 玩家继续探索实验室并发现到另一个人工仪器 能够产生电磁脉冲拉近附近的飞机 暗示这就是坠机的原因 玩家使用该仪器导致另一架飞机坠机 找出一名牺牲者并复活他的儿子一年后 玩家和他的儿子已被拯救 并被邀请到讲座以推销玩家写作并记录他经验的书 不过在讲座途中 玩家的儿子突然倒下并开始突变 暗示了儿子正在遭遇女儿同样发生过的事情陰森 曾受到 和 等邪典电影以及 饥荒 等电子游戏的啟發 并于2013年作为Steam青睐之光的一部分被接受 开发者 Endnight Games 表示迪士尼也是游戏的启发来源之一 评论说他们不想要整个游戏都变得 黑暗沉重 开发者设计游戏支持Oculus Rift 开发团队也发布了多人模式的补丁 说明合作游戏模式能够给游戏增加一种随机感 不过他们希望避免一种像是 或 的巨型多人感觉开发团队曾经给像是 蜘蛛人驚奇再起2 電光之戰 和 創 光速戰記 的电影制作视觉效果 游戏起初使用Unity 4作为游戏引擎 但在2015年4月的更新中更换成了Unity 5 2014年12月 开发者宣布游戏将会登陆PlayStation 4平台 游戏于2018年4月30日发布了完整版 开发者也在同一天宣布VR版游戏将会在5月22日出炉根据电子游戏评价汇总媒体Metacritic 陰森 获得了81 的平均成绩 属于 基本正面 的评价IGN给予了8 4 10的评分 表示 陰森 将探索 发现和食人混合在了一个充满故事的恐怖生存世界 而Destructoid则给予了此游戏9 10分的成绩 形容此游戏充满了 杰出的特点 虽然游戏有些瑕疵 但这些都微不足道且不会造成大量伤害 PC Gamer也评论 当一个只有四人的队伍能够制作出这么惊人的作品时 成为一个电脑游戏玩家就成了一件很荣幸的事KeenGamer给出了9 10的评价 同时一一指出了游戏的优点及缺点 作者认为游戏有着漂亮的视觉效果 优秀的音效和音乐品质 动画品质以及非常深入的建造系统 总的来说 他认为此游戏充满了沉浸感 但他表示首次启动游戏时游戏的幀率除了一些问题 并且游戏中的食人肉者设计仍需要一些改进瑟彭察鄉瑟彭察鄉是羅馬尼亞的鄉份 位於該國西北部 由馬拉穆列什縣負責管轄 面積139平方公里 海拔高度267米 2007年人口3 336 人口密度每平方公里24人薩圖隆格鄉薩圖隆格鄉是羅馬尼亞的鄉份 位於該國西北部 由馬拉穆列什縣負責管轄 面積65平方公里 海拔高度162米 2007年人口5 690 人口密度每平方公里88人謝烏鄉 馬拉穆列什縣謝烏鄉是羅馬尼亞的鄉份 位於該國西北部 由馬拉穆列什縣負責管轄 面積22平方公里 海拔高度371米 2007年人口2 575 人口密度每平方公里116人希謝什蒂鄉 馬拉穆列什縣希謝什蒂鄉是羅馬尼亞的鄉份 位於該國西北部 由馬拉穆列什縣負責管轄 面積90平方公里 海拔高度391米 2007年人口5 473 人口密度每平方公里61人卓兰芳卓兰芳 浙江省奉化县松岙村 今宁波市奉化区松岙镇 人 原名卓祥和 字培卿 曾用名李品三 李安德 中国共产党早期领导人1906年起随父亲在私塾和松溪学堂读书 1911年 就读于慈溪锦堂学校小学部 1914年考入宁波省立第四中学 后为生活所迫 先后在奉化松溪小学 鄞县四都花厅小学 镇海龙山小学 宁波北岸第七小学和毓秀女校任教 1923年 参加宁波青年知识分子的进步团体雪花社 1924年1月 参加中国社会主义青年团 1924年秋 受组织指派到和丰纱厂开展工人运动 创办夜校 并担任进步刊物 火曜 的发行人 1925年五卅运动爆发后 参与组织宁波工人罢工 同年暑期里转为中国共产党党员 1926年1月 中共宁波支联扩大为地委后 任地委委员兼工人运动委员会书记 3月受党指派回到家乡 任松溪小学校长 开展农民运动 5月筹建松岙党支部 任书记 10月 任新成立的中共鄞奉部委书记 11月初 发动农民攻打军阀当局的盐局和税关 1927年1月下旬至2月下旬 赴上海参加党校 党训班 学习 回宁波后任中共宁波地委委员 赴余姚等地指导农运工作蒋介石发动四一二政变后 回到奉化布置隐蔽工作 不久赴武汉作为正式代表参加中国共产党第五次全国代表大会 1927年4月至5月 会后返回杭州 同年8月至1928年3月 任中共浙江省委常务委员 农民部主任 曾赴诸暨 富阳等地指导工作 12月 任重建的中共浙江省委特派员 负责筹备奉化暴动 他组织起一支200多人的农军 不料暴动消息泄露 暴动领导人相继被捕 暴动再次受挫 1928年1月 暴动失败后 被迫离开奉化 3月 在上海出席中共浙江省委扩大会议 3月至5月 任中共浙江省委常务委员 会后任中共浙江省委浙西特派员 负责指导浙西地区党的工作 4月 在兰溪召开中共浙西地区党员代表会议成立中共浙江省浙西特别委员会 兼任特委书记 至1928年5月5月至10月任中共浙江省委书记 常务委员 至1929年1月 1928年9月 在上海参加党中央召开的浙江问题讨论会 1929年1月 在中共浙江省委扩大会议上被选为省委委员 至同年3月 任省委秘书长 会后坚持在杭州从事秘密活动 3月离杭赴沪 4月 改任党中央巡视员 先后到浙东 浙北 浙西等地巡视 1930年4月初 以中央巡视员身份组织诸暨农民暴动 失败后又奉命于5月间组织建德暴动 8月 任江南省浙北总行动委员会书记 奉命再次筹备武装暴动 10月29日 在杭州被捕 1930年11月24日 在杭州陆军监狱被杀害 后被追认为革命烈士卓兰芳故居纪念馆 位于浙江省宁波市奉化区松岙镇海沿村 原为卓兰芳烈士故居 1993年 按原貌修复改为卓兰芳烈士故居陈列室 坐落在民居之中 坐西朝东 2003年 改扩建并改为现名 张爱萍题馆名匾额 此外在奉化区松岙镇兰芳新村公园内 有卓兰芳雕像 2003年揭幕 花岗石材质 另外 在浙江省兰溪市中共浙西特委纪念馆 奉化区卓兰芳纪念馆各有卓兰芳塑像阿特帕拉烏帕齊拉阿特帕拉 是孟加拉國的一個烏帕齊拉 位於邁門辛專區的內德羅戈納縣據 阿特帕拉共有人口120491人 其中男性佔比51 15 女性48 85 成年人口60858人 該地7歲以上人口之平均識字率為24斯特勒姆圖拉鄉斯特勒姆圖拉鄉是羅馬尼亞的鄉份 位於該國西北部 由馬拉穆列什縣負責管轄 面積92平方公里 海拔高度564米 2007年人口4 033 人口密度每平方公里44人上蘇丘鄉上蘇丘鄉是羅馬尼亞的鄉份 位於該國西北部 由馬拉穆列什縣負責管轄 面積115平方公里 海拔高度502米 2007年人口4 048 人口密度每平方公里35人瓦杜伊澤鄉瓦杜伊澤鄉是羅馬尼亞的鄉份 位於該國西北部 由馬拉穆列什縣負責管轄 面積14平方公里 海拔高度314米 2007年人口2 923 人口密度每平方公里203人脫軌器脫軌器 Derailer 是一種用以防止違規行駛或無人駕駛的列車與鐵路軌道上的任何物體相撞 例如 人員 火車或倒塌的樹木等 的裝置 其運作是利用脫軌的方式使車輛翻覆雖然意外性的出軌會對車輛和鐵軌造成損害 且需要大量時間及資金復原 但若列車穿越脫軌處有造成更嚴重的傷害 人員受傷或死亡的風險時 脫軌器還是會安置在適當的地方脫軌器可能使用在脫軌器大致可以分為以下四種最常見的樣式是一片可以安裝在鐵道上的楔形鋼片 如果一輛列車試圖駛過脫軌器 其便會將列車的輪緣從鐵道上抬升到鐵道外使列車脫軌 不使用時 脫軌器將會收起 使鐵道暢通 這種裝置可以手動或遠端遙控的方式控制 若是以手動的方式安裝 則應將之鎖起以防止未經授權的人員移動之 此樣式在北美的鐵路十分常見第二種脫軌的方式是 分軌法 這種基本上是一個完善的或部分的轉轍器 它將錯誤的車輛引導離開主線 這種方式在英國很常見 它被稱為陷阱側線或安全側線第三種是可攜式的脫軌器 由鐵路機械部隊以及其他一些行業使用 這種脫軌器通常會在交會點和藍旗一起使用 且只是暫時的 使用時會安置在鐵軌的其中一邊 並會有一個指向出軌方向的指標 脫軌器上有一個零件可以鎖緊並將脫軌器固定在鐵軌上使之不滑動 此類脫軌器不管任何原因沒有鎖定 或者沒有可以將其鎖定的零件 一旦被聯邦鐵路管理局調查員發現時 其擁有者將可能面臨巨額的罰款第四種則是電動式或機動式的脫軌器 其透過執行器以電子的方式供電 這種類型的脫軌器可以通過外部控制面板遠程控製或手動控制 它通常會作為的一部分進行安裝 以維護車廠和車廠人員的安全脫軌器有時候也會失靈 例如2001年5月15日在美國俄亥俄州發生的CSX8888次鐵路事故基瓦魯盧伊鄉基瓦魯盧伊鄉是羅馬尼亞的鄉份 位於該國西北部 由馬拉穆列什縣負責管轄 面積79平方公里 海拔高度401米 2007年人口2 275 人口密度每平方公里29人小維馬鄉小維馬鄉是羅馬尼亞的鄉份 位於該國西北部 由馬拉穆列什縣負責管轄 面積77平方公里 海拔高度321米 2007年人口1 499 人口密度每平方公里20人下維謝烏鄉下維謝烏鄉是羅馬尼亞的鄉份 位於該國西北部 由馬拉穆列什縣負責管轄 面積56平方公里 海拔高度453米 2007年人口5 509 人口密度每平方公里98人伯克萊什鄉伯克萊什鄉是羅馬尼亞的鄉份 位於該國西南部 由梅赫丁茨縣負責管轄 面積96平方公里 海拔高度307米 2007年人口2 321 人口密度每平方公里24人巴拉鄉 梅赫丁茨縣巴拉鄉是羅馬尼亞的鄉份 位於該國西南部 由梅赫丁茨縣負責管轄 面積101平方公里 海拔高度245米 2007年人口4 578 人口密度每平方公里45人伯勒西察鄉伯勒西察鄉是羅馬尼亞的鄉份 位於該國西南部 由梅赫丁茨縣負責管轄 面積99平方公里 海拔高度271米 2007年人口3 254 人口密度每平方公里33人巴爾塔鄉 梅赫丁茨縣巴爾塔鄉是羅馬尼亞的鄉份 位於該國西南部 由梅赫丁茨縣負責管轄 處於布加勒斯特以西280公里 每年平均降雨量1 114毫米 海拔高度516米 2007年人口1 252伯爾沃內什蒂鄉伯爾沃內什蒂鄉是羅馬尼亞的鄉份 位於該國西南部 由梅赫丁茨縣負責管轄 面積48平方公里 海拔高度509米 2007年人口1 035 人口密度每平方公里22人杜爾加布爾烏帕齊拉 內德羅戈納縣杜爾加布爾 是孟加拉國的一個烏帕齊拉 位於邁門辛專區的內德羅戈納縣據1991年人口普查 杜爾加布爾共有人口169135人 其中男性佔比50 49 女性49 51 成年人口83795人 該地7歲以上人口之平均識字率為23布拉尼什泰亞鄉 梅赫丁茨縣布拉尼什泰亞鄉是羅馬尼亞的鄉份 位於該國西南部 由梅赫丁茨縣負責管轄 面積31平方公里 海拔高度76米 2007年人口2 031 人口密度每平方公里65人布雷茲尼察 莫特魯鄉布雷茲尼察 莫特魯鄉是羅馬尼亞的鄉份 位於該國西南部 由梅赫丁茨縣負責管轄 面積51平方公里 海拔高度293米 2007年人口1 689 人口密度每平方公里33人杜爾加布爾烏帕齊拉杜爾加布爾烏帕齊拉可以指布雷茲尼察 奧科爾鄉布雷茲尼察 奧科爾鄉是羅馬尼亞的鄉份 位於該國西南部 由梅赫丁茨縣負責管轄 面積75平方公里 海拔高度159米 2007年人口4 013 人口密度每平方公里53人布羅什泰尼鄉 梅赫丁茨縣布羅什泰尼鄉是羅馬尼亞的鄉份 位於該國西南部 由梅赫丁茨縣負責管轄 面積29平方公里 海拔高度185米 2007年人口2 982 人口密度每平方公里102人大布里拉鄉大布里拉鄉是羅馬尼亞的鄉份 位於該國西南部 由梅赫丁茨縣負責管轄 面積124平方公里 海拔高度47米 2007年人口2 218 人口密度每平方公里18人布托耶什蒂鄉布托耶什蒂鄉是羅馬尼亞的鄉份 位於該國西南部 由梅赫丁茨縣負責管轄 處於布加勒斯特以西220公里 每年平均降雨量1 068毫米 海拔高度113米 2007年人口3 368克澤內什蒂鄉 梅赫丁茨縣克澤內什蒂鄉是羅馬尼亞的鄉份 位於該國西南部 由梅赫丁茨縣負責管轄 面積85平方公里 海拔高度224米 2007年人口2 522 人口密度每平方公里30人奇雷舒鄉 梅赫丁茨縣奇雷舒鄉是羅馬尼亞的鄉份 位於該國西南部 由梅赫丁茨縣負責管轄 面積53平方公里 海拔高度451米 2007年人口683 人口密度每平方公里13人科爾科瓦鄉科爾科瓦鄉是羅馬尼亞的鄉份 位於該國西南部 由梅赫丁茨縣負責管轄 面積59平方公里 海拔高度206米 2007年人口6 040 人口密度每平方公里103人科爾勒采爾鄉科爾勒采爾鄉是羅馬尼亞的鄉份 位於該國西南部 由梅赫丁茨縣負責管轄 面積47平方公里 海拔高度162米 2007年人口1 499 人口密度每平方公里32人2018年西班牙大獎賽2018年西班牙大獎賽 官方名稱為2018年一級方程式賽車阿聯酋航空西班牙大獎賽 是2018年5月13日舉辦於西班牙的一場一級方程式賽車賽事 比賽在巴塞隆納 加泰隆尼亞賽道進行 總計66圈 這是2018年世界一級方程式錦標賽的第5場分站賽事 以及第48屆西班牙大獎賽梅赛德斯車手路易斯 咸美頓為本場賽事衛冕分站冠軍 並以積分領先之姿來到此站 在車隊積分榜方面 法拉利領先梅赛德斯4分庫日米爾鄉庫日米爾鄉是羅馬尼亞的鄉份 位於該國西南部 由梅赫丁茨縣負責管轄 處於布加勒斯特以西250公里 每年平均降雨量1 043毫米 海拔高度64米 2007年人口3 667杜爾加布爾烏帕齊拉 拉傑沙希縣杜爾加布爾 是孟加拉國的一個烏帕齊拉 位於拉傑沙希專區的拉傑沙希縣 該烏帕齊拉始建於1909年 後於1984年正式擁有烏帕齊拉地位據1991年孟加拉國人口普查 杜爾加布爾共有人口137640人 其中男性佔比50 81 女性49 19 成年人口 含18歲 71446人 該地7歲以上人口之平均識字率為20 2德爾瓦里鄉德爾瓦里鄉是羅馬尼亞的鄉份 位於該國西南部 由梅赫丁茨縣負責管轄 面積65平方公里 海拔高度98米 2007年人口2 869 人口密度每平方公里44人代韋塞爾鄉代韋塞爾鄉是羅馬尼亞的鄉份 位於該國西南部 由梅赫丁茨縣負責管轄 面積70平方公里 海拔高度122米 2007年人口3 101 人口密度每平方公里44人杜博瓦鄉 梅赫丁茨縣杜博瓦鄉是羅馬尼亞的鄉份 位於該國西南部 由梅赫丁茨縣負責管轄 面積164平方公里 海拔高度507米 2007年人口977 人口密度每平方公里6人敦布拉瓦鄉 梅赫丁茨縣敦布拉瓦鄉是羅馬尼亞的鄉份 位於該國西南部 由梅赫丁茨縣負責管轄 面積81平方公里 海拔高度303米 2007年人口1 782 人口密度每平方公里22人广州广播电视台移动频道广州广播电视台移动频道 简称广州移动频道 是广州广播电视台属下的闭路兼加密频道 主要播放新闻 资讯 生活 健康等节目 播放语言主要是普通话和粤语频道主要在12 30 13 15转播广州电视台综合频道的午间新闻 18 30 19 00转播广州电视台综合频道的广视新闻 现已取消 22 30 23 00转播广州电视台综合频道的夜间新闻 限DTMB 634MHZ GZTVM02播放 在09 00 22 30期间 每隔1小時就转播广州电视台新闻频道的正点报道节目 现已取消 其它时段多数都围绕资讯和生活 健康节目为主2003年3月1日 由于广州数字电视正式开播 频道率先在巴士正式上线而开播 初期只限有珠江宽频和巴士 的士內做电视广播业务来传递信息 2005年因珠江数码机顶盒推出而加开一个频谱 2007 2009年广州市区 除白云区外 从模拟信号转成数码信号后才多了這个台接收它开播之后分开机顶盒版和巴士版 的士版来播放 直到2017年3月底 频道播出范围只剩下广州地区的巴士版 原先珠江宽频和甜果时光版先后改成转播广州电视台综合频道的节目 现已取消该频道节目改为环球购物频道替代 网上直播除巴士版外 其他信号先改成有声冇像画面 几日后再切断了直播信号 实际上 该移动电视频道并未获广电总局许可埃謝爾尼察鄉埃謝爾尼察鄉是羅馬尼亞的鄉份 位於該國西南部 由梅赫丁茨縣負責管轄 面積164平方公里 海拔高度81米 2007年人口3 091 人口密度每平方公里19人弗洛雷什蒂鄉 梅赫丁茨縣弗洛雷什蒂鄉是羅馬尼亞的鄉份 位於該國西南部 由梅赫丁茨縣負責管轄 面積56平方公里 海拔高度219米 2007年人口2 804 人口密度每平方公里51人大格爾拉鄉 梅赫丁茨縣大格爾拉鄉是羅馬尼亞的鄉份 位於該國西南部 由梅赫丁茨縣負責管轄 面積63平方公里 海拔高度81米 2007年人口3 278 人口密度每平方公里52人戈迪亞努鄉戈迪亞努鄉是羅馬尼亞的鄉份 位於該國西南部 由梅赫丁茨縣負責管轄 面積45平方公里 海拔高度714米 2007年人口677 人口密度每平方公里15人戈戈舒鄉 梅赫丁茨縣戈戈舒鄉是羅馬尼亞的鄉份 位於該國西南部 由梅赫丁茨縣負責管轄 面積76平方公里 海拔高度72米 2007年人口4 430 人口密度每平方公里58人格雷奇鄉 梅赫丁茨縣格雷奇鄉是羅馬尼亞的鄉份 位於該國西南部 由梅赫丁茨縣負責管轄 面積40平方公里 海拔高度315米 2007年人口1 334 人口密度每平方公里33人折原美都折原美都 本名矢口美佐惠 日本女性漫畫家折原美都就讀小學時已開始接觸漫畫 高中時期更參與製作同人誌 並以少女漫畫風格繪畫幻想與戰爭一類作品 她高中畢業曾計劃考進美術大學或加入動畫製作公司 但不順利而另擇電影導演為目標 上京後一度靠擔任臨時演員和到雜誌社工作維生 直至1985年才出道成為漫畫家 同年在角川書店 月刊Asuka 中發行首部少女漫畫 ベストガールになりたいの折原美都先後透過講談社 白楊社等出版社出版逾150部作品 包括漫畫 小說 雜文 連環畫 詩集及隨筆 其中以漫畫代表作 燦爛時光 原名 時の輝き 受到讀者歡迎 除了售出110萬本和獲選為1990年第一暢銷書籍外 亦曾改編成1995年由高橋由美子 山本耕史主演的同名電影 而其少女夢幻小說 OVER生於死的愛戀 又名 大聲說愛我 也曾獲製成動畫折原美都現居住在神奈川縣逗子市 其不少作品均有描寫鎌倉 逗子兩地景色花之安医院花之安医院 Faber Hospital 为同善会于190'"
      ]
     },
     "execution_count": 82,
     "metadata": {},
     "output_type": "execute_result"
    }
   ],
   "source": [
    "text[:10000] #然后转化为简体"
   ]
  },
  {
   "cell_type": "code",
   "execution_count": 83,
   "metadata": {},
   "outputs": [],
   "source": [
    "from hanziconv import HanziConv #发现找不到包，需要安装  !pip install hanzico"
   ]
  },
  {
   "cell_type": "code",
   "execution_count": 84,
   "metadata": {},
   "outputs": [],
   "source": [
    "TEXT=HanziConv.toSimplified(text) #基本转换为简体，但是有些数字分离了48.5 121,3561这种数据的处理方式还有待学习"
   ]
  },
  {
   "cell_type": "code",
   "execution_count": 85,
   "metadata": {},
   "outputs": [
    {
     "name": "stderr",
     "output_type": "stream",
     "text": [
      "Building prefix dict from the default dictionary ...\n",
      "Dumping model to file cache C:\\Users\\学习\\AppData\\Local\\Temp\\jieba.cache\n",
      "Loading model cost 0.885 seconds.\n",
      "Prefix dict has been built succesfully.\n"
     ]
    }
   ],
   "source": [
    "import jieba \n",
    "ALL_TOKENS=list(jieba.cut(TEXT))"
   ]
  },
  {
   "cell_type": "code",
   "execution_count": 86,
   "metadata": {
    "scrolled": true
   },
   "outputs": [
    {
     "data": {
      "text/plain": [
       "['雷恰乡',\n",
       " ' ',\n",
       " '马拉',\n",
       " '穆列什',\n",
       " '县雷',\n",
       " '恰乡',\n",
       " '是',\n",
       " '罗马尼亚',\n",
       " '的',\n",
       " '乡份',\n",
       " ' ',\n",
       " '位于',\n",
       " '该国',\n",
       " '西北部',\n",
       " ' ',\n",
       " '由',\n",
       " '马拉',\n",
       " '穆列什',\n",
       " '县',\n",
       " '负责',\n",
       " '管辖',\n",
       " ' ',\n",
       " '面积',\n",
       " '44',\n",
       " '平方公里',\n",
       " ' ',\n",
       " '海拔高度',\n",
       " '157',\n",
       " '米',\n",
       " ' ',\n",
       " '2007',\n",
       " '年',\n",
       " '人口',\n",
       " '5',\n",
       " ' ',\n",
       " '580',\n",
       " ' ',\n",
       " '人口密度',\n",
       " '每',\n",
       " '平方公里',\n",
       " '127',\n",
       " '人雷梅',\n",
       " '泰',\n",
       " '亚基',\n",
       " '瓦鲁卢',\n",
       " '伊乡',\n",
       " '雷梅泰',\n",
       " '亚基',\n",
       " '瓦鲁卢',\n",
       " '伊乡',\n",
       " '是',\n",
       " '罗马尼亚',\n",
       " '的',\n",
       " '乡份',\n",
       " ' ',\n",
       " '位于',\n",
       " '该国',\n",
       " '西北部',\n",
       " ' ',\n",
       " '由',\n",
       " '马拉',\n",
       " '穆列什',\n",
       " '县',\n",
       " '负责',\n",
       " '管辖',\n",
       " ' ',\n",
       " '面积',\n",
       " '51',\n",
       " '平方公里',\n",
       " ' ',\n",
       " '海拔高度',\n",
       " '238',\n",
       " '米',\n",
       " ' ',\n",
       " '2007',\n",
       " '年',\n",
       " '人口',\n",
       " '2',\n",
       " ' ',\n",
       " '872',\n",
       " ' ',\n",
       " '人口密度',\n",
       " '每',\n",
       " '平方公里',\n",
       " '56',\n",
       " '人雷梅',\n",
       " '齐乡',\n",
       " '雷梅',\n",
       " '齐乡',\n",
       " '是',\n",
       " '罗马尼亚',\n",
       " '的',\n",
       " '乡份',\n",
       " ' ',\n",
       " '位于',\n",
       " '该国',\n",
       " '西北部',\n",
       " ' ',\n",
       " '由',\n",
       " '马拉']"
      ]
     },
     "execution_count": 86,
     "metadata": {},
     "output_type": "execute_result"
    }
   ],
   "source": [
    "ALL_TOKENS[:100]"
   ]
  },
  {
   "cell_type": "code",
   "execution_count": 88,
   "metadata": {},
   "outputs": [],
   "source": [
    "valida_taokens=[t for t in ALL_TOKENS if t.strip()]  "
   ]
  },
  {
   "cell_type": "code",
   "execution_count": 89,
   "metadata": {},
   "outputs": [
    {
     "data": {
      "text/plain": [
       "['雷恰乡',\n",
       " '马拉',\n",
       " '穆列什',\n",
       " '县雷',\n",
       " '恰乡',\n",
       " '是',\n",
       " '罗马尼亚',\n",
       " '的',\n",
       " '乡份',\n",
       " '位于',\n",
       " '该国',\n",
       " '西北部',\n",
       " '由',\n",
       " '马拉',\n",
       " '穆列什',\n",
       " '县',\n",
       " '负责',\n",
       " '管辖',\n",
       " '面积',\n",
       " '44',\n",
       " '平方公里',\n",
       " '海拔高度',\n",
       " '157',\n",
       " '米',\n",
       " '2007',\n",
       " '年',\n",
       " '人口',\n",
       " '5',\n",
       " '580',\n",
       " '人口密度',\n",
       " '每',\n",
       " '平方公里',\n",
       " '127',\n",
       " '人雷梅',\n",
       " '泰',\n",
       " '亚基',\n",
       " '瓦鲁卢',\n",
       " '伊乡',\n",
       " '雷梅泰',\n",
       " '亚基',\n",
       " '瓦鲁卢',\n",
       " '伊乡',\n",
       " '是',\n",
       " '罗马尼亚',\n",
       " '的',\n",
       " '乡份',\n",
       " '位于',\n",
       " '该国',\n",
       " '西北部',\n",
       " '由',\n",
       " '马拉',\n",
       " '穆列什',\n",
       " '县',\n",
       " '负责',\n",
       " '管辖',\n",
       " '面积',\n",
       " '51',\n",
       " '平方公里',\n",
       " '海拔高度',\n",
       " '238',\n",
       " '米',\n",
       " '2007',\n",
       " '年',\n",
       " '人口',\n",
       " '2',\n",
       " '872',\n",
       " '人口密度',\n",
       " '每',\n",
       " '平方公里',\n",
       " '56',\n",
       " '人雷梅',\n",
       " '齐乡',\n",
       " '雷梅',\n",
       " '齐乡',\n",
       " '是',\n",
       " '罗马尼亚',\n",
       " '的',\n",
       " '乡份',\n",
       " '位于',\n",
       " '该国',\n",
       " '西北部',\n",
       " '由',\n",
       " '马拉',\n",
       " '穆列什',\n",
       " '县',\n",
       " '负责',\n",
       " '管辖',\n",
       " '面积',\n",
       " '63',\n",
       " '平方公里',\n",
       " '海拔高度',\n",
       " '412',\n",
       " '米',\n",
       " '2007',\n",
       " '年',\n",
       " '人口',\n",
       " '3',\n",
       " '116',\n",
       " '人口密度',\n",
       " '每']"
      ]
     },
     "execution_count": 89,
     "metadata": {},
     "output_type": "execute_result"
    }
   ],
   "source": [
    "valida_taokens[:100]"
   ]
  },
  {
   "cell_type": "markdown",
   "metadata": {},
   "source": [
    "计算单词的频率"
   ]
  },
  {
   "cell_type": "code",
   "execution_count": 90,
   "metadata": {},
   "outputs": [],
   "source": [
    "from collections import Counter"
   ]
  },
  {
   "cell_type": "code",
   "execution_count": 91,
   "metadata": {},
   "outputs": [],
   "source": [
    "words_count=Counter(valida_taokens)"
   ]
  },
  {
   "cell_type": "code",
   "execution_count": 92,
   "metadata": {
    "collapsed": true
   },
   "outputs": [
    {
     "data": {
      "text/plain": [
       "[('的', 304583),\n",
       " ('年', 105740),\n",
       " ('在', 90709),\n",
       " ('是', 68305),\n",
       " ('和', 54212),\n",
       " ('为', 52191),\n",
       " ('月', 48158),\n",
       " ('了', 43763),\n",
       " ('与', 29216),\n",
       " ('日', 29021),\n",
       " ('他', 28655),\n",
       " ('于', 26732),\n",
       " ('中', 24761),\n",
       " ('被', 24654),\n",
       " ('有', 22679),\n",
       " ('人', 20929),\n",
       " ('并', 20812),\n",
       " ('而', 20431),\n",
       " ('后', 19116),\n",
       " ('也', 18101),\n",
       " ('一个', 17132),\n",
       " ('由', 17038),\n",
       " ('以', 15426),\n",
       " ('1', 14890),\n",
       " ('美国', 14525),\n",
       " ('位于', 14299),\n",
       " ('上', 14036),\n",
       " ('将', 13562),\n",
       " ('等', 13002),\n",
       " ('时', 12285),\n",
       " ('2', 11906),\n",
       " ('其', 11720),\n",
       " ('2018', 11649),\n",
       " ('但', 11512),\n",
       " ('及', 11439),\n",
       " ('3', 10623),\n",
       " ('到', 10579),\n",
       " ('中国', 10567),\n",
       " ('5', 10528),\n",
       " ('对', 10276),\n",
       " ('至', 10237),\n",
       " ('该', 9965),\n",
       " ('4', 9785),\n",
       " ('号', 9709),\n",
       " ('人口', 9224),\n",
       " ('10', 9170),\n",
       " ('8', 9160),\n",
       " ('7', 9085),\n",
       " ('地区', 9072),\n",
       " ('6', 9040)]"
      ]
     },
     "execution_count": 92,
     "metadata": {},
     "output_type": "execute_result"
    }
   ],
   "source": [
    "words_count.most_common(50)"
   ]
  },
  {
   "cell_type": "code",
   "execution_count": 93,
   "metadata": {},
   "outputs": [],
   "source": [
    "frequences_all= [f for w,f in words_count.most_common()]"
   ]
  },
  {
   "cell_type": "code",
   "execution_count": 94,
   "metadata": {},
   "outputs": [],
   "source": [
    "f_sum=sum(frequences_all)"
   ]
  },
  {
   "cell_type": "code",
   "execution_count": 95,
   "metadata": {},
   "outputs": [
    {
     "data": {
      "text/plain": [
       "6330883"
      ]
     },
     "execution_count": 95,
     "metadata": {},
     "output_type": "execute_result"
    }
   ],
   "source": [
    "f_sum"
   ]
  },
  {
   "cell_type": "code",
   "execution_count": 96,
   "metadata": {},
   "outputs": [],
   "source": [
    "def get_prob(word):\n",
    "    e=1/f_sum                 #确定从没有出现的单词的概率       \n",
    "    if word in words_count:\n",
    "        return words_count[word]/f_sum\n",
    "    else:\n",
    "        return e"
   ]
  },
  {
   "cell_type": "code",
   "execution_count": 107,
   "metadata": {},
   "outputs": [],
   "source": [
    "import numpy as np \n",
    "from functools import reduce"
   ]
  },
  {
   "cell_type": "code",
   "execution_count": 108,
   "metadata": {},
   "outputs": [],
   "source": [
    "def product(number):      #这里number必须是一个list,后面传入单词概率组成的list\n",
    "    return reduce(lambda n1,n2: n1*n2, number)"
   ]
  },
  {
   "cell_type": "code",
   "execution_count": 109,
   "metadata": {},
   "outputs": [],
   "source": [
    "def language_model_one_gram(string):\n",
    "    words=cut(string) #先切分，后连乘\n",
    "    return product([get_prob(i) for i in words])"
   ]
  },
  {
   "cell_type": "code",
   "execution_count": 110,
   "metadata": {},
   "outputs": [],
   "source": [
    "def cut(string):    #无法直接读取，必须加list（）或循环\n",
    "    return list(jieba.cut(string))"
   ]
  },
  {
   "cell_type": "code",
   "execution_count": 111,
   "metadata": {},
   "outputs": [
    {
     "data": {
      "text/plain": [
       "2.9202130651653507e-29"
      ]
     },
     "execution_count": 111,
     "metadata": {},
     "output_type": "execute_result"
    }
   ],
   "source": [
    " language_model_one_gram(\"习近平主席兢兢业业，任劳任怨\")"
   ]
  },
  {
   "cell_type": "code",
   "execution_count": 112,
   "metadata": {},
   "outputs": [
    {
     "data": {
      "text/plain": [
       "2.152199598814361e-19"
      ]
     },
     "execution_count": 112,
     "metadata": {},
     "output_type": "execute_result"
    }
   ],
   "source": [
    " language_model_one_gram(\"习近平会一直连任主席\")"
   ]
  },
  {
   "cell_type": "code",
   "execution_count": 113,
   "metadata": {},
   "outputs": [
    {
     "name": "stdout",
     "output_type": "stream",
     "text": [
      "明天晚上请你吃大餐,我们一起吃苹果 is better\n",
      "真是一只好看的猫 is better\n",
      "今晚我去吃火锅 is better\n"
     ]
    }
   ],
   "source": [
    "on_compared=[\n",
    "    '今天晚上请你吃大餐,我们一起吃日料 明天晚上请你吃大餐,我们一起吃苹果',\n",
    "    '真事一只好看的猫 真是一只好看的猫',\n",
    "    '我去吃火锅,今晚 今晚我去吃火锅']\n",
    "for s  in on_compared:\n",
    "    s1,s2= s.split()\n",
    "    p1,p2=language_model_one_gram(s1),language_model_one_gram(s2)\n",
    "    if p1>p2:\n",
    "        better=s1\n",
    "    else:\n",
    "        better=s2\n",
    "    print('{} is better'.format(better))"
   ]
  },
  {
   "cell_type": "code",
   "execution_count": 114,
   "metadata": {},
   "outputs": [],
   "source": [
    "valid_tokens = [str(t) for t in valida_taokens] \n",
    "two_gram_words= [''.join(valid_tokens[i:i+2]) for i in range(len(valid_tokens)-1)]\n",
    "_2_gram_sum=len(two_gram_words) #变量不能以数字开头\n",
    "_2_gram_counter=Counter(two_gram_words)"
   ]
  },
  {
   "cell_type": "code",
   "execution_count": 115,
   "metadata": {},
   "outputs": [],
   "source": [
    "frequences_all_2_gram=[f for w,f in _2_gram_counter.most_common()]\n",
    "sum_2_fre=sum(frequences_all_2_gram)"
   ]
  },
  {
   "cell_type": "code",
   "execution_count": 116,
   "metadata": {},
   "outputs": [
    {
     "data": {
      "text/plain": [
       "6330882"
      ]
     },
     "execution_count": 116,
     "metadata": {},
     "output_type": "execute_result"
    }
   ],
   "source": [
    "sum_2_fre"
   ]
  },
  {
   "cell_type": "code",
   "execution_count": 117,
   "metadata": {},
   "outputs": [],
   "source": [
    "def get_com_pro(w1,w2):\n",
    "    if w1+w2 in _2_gram_counter:\n",
    "        return _2_gram_counter[w1+w2]/sum_2_fre\n",
    "    else:\n",
    "        return 1/sum_2_fre"
   ]
  },
  {
   "cell_type": "code",
   "execution_count": 118,
   "metadata": {},
   "outputs": [
    {
     "data": {
      "text/plain": [
       "1.5795587407884083e-07"
      ]
     },
     "execution_count": 118,
     "metadata": {},
     "output_type": "execute_result"
    }
   ],
   "source": [
    "get_com_pro('上','北大')"
   ]
  },
  {
   "cell_type": "code",
   "execution_count": 119,
   "metadata": {},
   "outputs": [],
   "source": [
    "def get_condition_pro(w1,w2):\n",
    "    return get_com_pro(w1,w2)/get_prob(w1)\n",
    "    "
   ]
  },
  {
   "cell_type": "code",
   "execution_count": 120,
   "metadata": {},
   "outputs": [
    {
     "data": {
      "text/plain": [
       "0.0011554016845244067"
      ]
     },
     "execution_count": 120,
     "metadata": {},
     "output_type": "execute_result"
    }
   ],
   "source": [
    "get_condition_pro('去','河南')"
   ]
  },
  {
   "cell_type": "code",
   "execution_count": 121,
   "metadata": {},
   "outputs": [
    {
     "data": {
      "text/plain": [
       "0.004621606738097627"
      ]
     },
     "execution_count": 121,
     "metadata": {},
     "output_type": "execute_result"
    }
   ],
   "source": [
    "get_condition_pro('去','北京')"
   ]
  },
  {
   "cell_type": "code",
   "execution_count": 122,
   "metadata": {},
   "outputs": [],
   "source": [
    "def lang_model_of_2_gram(sentences):\n",
    "    words=cut(sentences)\n",
    "    sentences_p=1\n",
    "    for i,w in enumerate(words):\n",
    "        if i==0:\n",
    "            p= get_prob(w)\n",
    "        else:\n",
    "            p=get_condition_pro(words[i-1],words[i])\n",
    "        sentences_p=sentences_p*p\n",
    "    return sentences_p\n",
    "        "
   ]
  },
  {
   "cell_type": "code",
   "execution_count": 123,
   "metadata": {},
   "outputs": [
    {
     "data": {
      "text/plain": [
       "1.3978216279632633e-34"
      ]
     },
     "execution_count": 123,
     "metadata": {},
     "output_type": "execute_result"
    }
   ],
   "source": [
    "lang_model_of_2_gram(\"我爱北京天安门，天安门上太阳升，我爱我的祖国，明天会更好\")"
   ]
  },
  {
   "cell_type": "code",
   "execution_count": 124,
   "metadata": {},
   "outputs": [
    {
     "data": {
      "text/plain": [
       "2.7161756017523115e-24"
      ]
     },
     "execution_count": 124,
     "metadata": {},
     "output_type": "execute_result"
    }
   ],
   "source": [
    "lang_model_of_2_gram(\"我支持习主席当一辈子的总书记\")"
   ]
  },
  {
   "cell_type": "code",
   "execution_count": 125,
   "metadata": {},
   "outputs": [
    {
     "data": {
      "text/plain": [
       "2.9860260202420305e-15"
      ]
     },
     "execution_count": 125,
     "metadata": {},
     "output_type": "execute_result"
    }
   ],
   "source": [
    "lang_model_of_2_gram(\"小明今天抽奖抽到一架波音飞机\")"
   ]
  },
  {
   "cell_type": "code",
   "execution_count": 126,
   "metadata": {},
   "outputs": [
    {
     "name": "stdout",
     "output_type": "stream",
     "text": [
      "今天晚上请你吃大餐,我们一起吃日料 is better\n",
      "真是一只好看的猫 is better\n",
      "我去吃火锅,今晚 is better\n"
     ]
    }
   ],
   "source": [
    "on_compared=[\n",
    "    '今天晚上请你吃大餐,我们一起吃日料 明天晚上请你吃大餐,我们一起吃苹果',\n",
    "    '真事一只好看的猫 真是一只好看的猫',\n",
    "    '我去吃火锅,今晚 今晚我去吃火锅']\n",
    "for s  in on_compared:\n",
    "    s1,s2= s.split()\n",
    "    p1,p2=lang_model_of_2_gram(s1),lang_model_of_2_gram(s2)\n",
    "    if p1>p2:\n",
    "        better=s1\n",
    "    else:\n",
    "        better=s2\n",
    "    print('{} is better'.format(better))"
   ]
  },
  {
   "cell_type": "code",
   "execution_count": null,
   "metadata": {},
   "outputs": [],
   "source": []
  }
 ],
 "metadata": {
  "kernelspec": {
   "display_name": "Python 3",
   "language": "python",
   "name": "python3"
  },
  "language_info": {
   "codemirror_mode": {
    "name": "ipython",
    "version": 3
   },
   "file_extension": ".py",
   "mimetype": "text/x-python",
   "name": "python",
   "nbconvert_exporter": "python",
   "pygments_lexer": "ipython3",
   "version": "3.7.1"
  }
 },
 "nbformat": 4,
 "nbformat_minor": 2
}
